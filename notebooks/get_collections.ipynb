{
 "cells": [
  {
   "cell_type": "code",
   "execution_count": 3,
   "id": "c4aac34a",
   "metadata": {},
   "outputs": [
    {
     "name": "stdout",
     "output_type": "stream",
     "text": [
      "1. Bored Ape Yacht Club\n",
      "   Volume: 1728765.67 ETH\n",
      "   Floor Price: N/A ETH\n",
      "   Contract: 0xbc4ca0eda7647a8ab7c2061c2e118a18a936f13d\n",
      "\n",
      "2. CryptoPunks\n",
      "   Volume: 1322392.15 ETH\n",
      "   Floor Price: N/A ETH\n",
      "   Contract: 0xb47e3cd837ddf8e4c57f05d70ab865de6e193bbb\n",
      "\n",
      "3. Mutant Ape Yacht Club\n",
      "   Volume: 1188881.91 ETH\n",
      "   Floor Price: N/A ETH\n",
      "   Contract: 0x60e4d786628fea6478f785a6d7e704777c86a7c6\n",
      "\n",
      "4. Azuki\n",
      "   Volume: 910997.49 ETH\n",
      "   Floor Price: N/A ETH\n",
      "   Contract: 0xed5af388653567af2f388e6224dc7c4b3241c544\n",
      "\n",
      "5. Otherdeed for Otherside\n",
      "   Volume: 680822.01 ETH\n",
      "   Floor Price: N/A ETH\n",
      "   Contract: 0x34d85c9cdeb23fa97cb08333b511ac86e1c4e258\n",
      "\n",
      "6. Pudgy Penguins\n",
      "   Volume: 535730.60 ETH\n",
      "   Floor Price: N/A ETH\n",
      "   Contract: 0xbd3531da5cf5857e7cfaa92426877b022e612cf8\n",
      "\n",
      "7. CLONE X - X TAKASHI MURAKAMI\n",
      "   Volume: 437296.14 ETH\n",
      "   Floor Price: N/A ETH\n",
      "   Contract: 0x49cf6f5d44e70224e2e23fdcdd2c053f30ada28b\n",
      "\n",
      "8. Moonbirds\n",
      "   Volume: 380596.32 ETH\n",
      "   Floor Price: N/A ETH\n",
      "   Contract: 0x23581767a106ae21c074b2276d25e5c3e136a68b\n",
      "\n",
      "9. Doodles\n",
      "   Volume: 376023.66 ETH\n",
      "   Floor Price: N/A ETH\n",
      "   Contract: 0x8a90cab2b38dba80c64b7734e58ee1db38b8992e\n",
      "\n",
      "10. Bored Ape Kennel Club\n",
      "   Volume: 288772.69 ETH\n",
      "   Floor Price: N/A ETH\n",
      "   Contract: 0xba30e5f9bb24caa003e9f2f0497ad287fdf95623\n",
      "\n"
     ]
    }
   ],
   "source": [
    "import sys\n",
    "import os\n",
    "sys.path.append(os.path.abspath(\"../\"))  \n",
    "\n",
    "from utils.reservoir_api import get_top_collections\n",
    "\n",
    "data = get_top_collections()\n",
    "for i, col in enumerate(data):\n",
    "    print(f\"{i+1}. {col['name']}\")\n",
    "    print(f\"   Volume: {col['volume']['allTime']:.2f} ETH\")\n",
    "    floor_price = col.get(\"floorAskPrice\", \"N/A\")  # 加預設值\n",
    "    print(f\"   Floor Price: {floor_price} ETH\")\n",
    "    print(f\"   Contract: {col['id']}\")\n",
    "    print()\n",
    "\n"
   ]
  }
 ],
 "metadata": {
  "kernelspec": {
   "display_name": "venv",
   "language": "python",
   "name": "python3"
  },
  "language_info": {
   "codemirror_mode": {
    "name": "ipython",
    "version": 3
   },
   "file_extension": ".py",
   "mimetype": "text/x-python",
   "name": "python",
   "nbconvert_exporter": "python",
   "pygments_lexer": "ipython3",
   "version": "3.13.0"
  }
 },
 "nbformat": 4,
 "nbformat_minor": 5
}
